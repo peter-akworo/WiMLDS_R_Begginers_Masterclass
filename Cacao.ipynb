{
 "cells": [
  {
   "attachments": {
    "Flavors-of-Cacao-Logo-Brown.png": {
     "image/png": "[encoded data removed]"
    }
   },
   "cell_type": "markdown",
   "metadata": {},
   "source": [
    "<img src = \"attachment:Flavors-of-Cacao-Logo-Brown.png\" width=\"200\">"
   ]
  },
  {
   "cell_type": "code",
   "execution_count": 1,
   "metadata": {},
   "outputs": [
    {
     "name": "stderr",
     "output_type": "stream",
     "text": [
      "-- \u001b[1mAttaching packages\u001b[22m --------------------------------------- tidyverse 1.2.1 --\n",
      "\u001b[32mv\u001b[39m \u001b[34mggplot2\u001b[39m 3.2.1     \u001b[32mv\u001b[39m \u001b[34mpurrr  \u001b[39m 0.3.3\n",
      "\u001b[32mv\u001b[39m \u001b[34mtibble \u001b[39m 2.1.3     \u001b[32mv\u001b[39m \u001b[34mdplyr  \u001b[39m 0.8.3\n",
      "\u001b[32mv\u001b[39m \u001b[34mtidyr  \u001b[39m 1.0.0     \u001b[32mv\u001b[39m \u001b[34mstringr\u001b[39m 1.4.0\n",
      "\u001b[32mv\u001b[39m \u001b[34mreadr  \u001b[39m 1.3.1     \u001b[32mv\u001b[39m \u001b[34mforcats\u001b[39m 0.4.0\n",
      "-- \u001b[1mConflicts\u001b[22m ------------------------------------------ tidyverse_conflicts() --\n",
      "\u001b[31mx\u001b[39m \u001b[34mdplyr\u001b[39m::\u001b[32mfilter()\u001b[39m masks \u001b[34mstats\u001b[39m::filter()\n",
      "\u001b[31mx\u001b[39m \u001b[34mdplyr\u001b[39m::\u001b[32mlag()\u001b[39m    masks \u001b[34mstats\u001b[39m::lag()\n"
     ]
    }
   ],
   "source": [
    "library(\"tidyverse\")# Import necessary libraries"
   ]
  },
  {
   "cell_type": "markdown",
   "metadata": {},
   "source": [
    "**Load the data**"
   ]
  },
  {
   "cell_type": "code",
   "execution_count": 2,
   "metadata": {},
   "outputs": [],
   "source": [
    "data <- read.csv(\"C:\\\\Users\\\\ME\\\\Desktop\\\\Cacao\\\\flavors_of_cacao.csv\")"
   ]
  },
  {
   "cell_type": "code",
   "execution_count": 3,
   "metadata": {},
   "outputs": [
    {
     "data": {
      "text/html": [
       "<table>\n",
       "<caption>A data.frame: 1795 × 9</caption>\n",
       "<thead>\n",
       "\t<tr><th scope=col>CompanyÂ...Maker.if.known.</th><th scope=col>Specific.Bean.Origin.or.Bar.Name</th><th scope=col>REF</th><th scope=col>Review.Date</th><th scope=col>Cocoa.Percent</th><th scope=col>Company.Location</th><th scope=col>Rating</th><th scope=col>Bean.Type</th><th scope=col>Broad.Bean.Origin</th></tr>\n",
       "\t<tr><th scope=col>&lt;fct&gt;</th><th scope=col>&lt;fct&gt;</th><th scope=col>&lt;int&gt;</th><th scope=col>&lt;int&gt;</th><th scope=col>&lt;fct&gt;</th><th scope=col>&lt;fct&gt;</th><th scope=col>&lt;dbl&gt;</th><th scope=col>&lt;fct&gt;</th><th scope=col>&lt;fct&gt;</th></tr>\n",
       "</thead>\n",
       "<tbody>\n",
       "\t<tr><td>A. Morin          </td><td>Agua Grande              </td><td>1876</td><td>2016</td><td>63%</td><td>France </td><td>3.75</td><td>Â                 </td><td>Sao Tome        </td></tr>\n",
       "\t<tr><td>A. Morin          </td><td>Kpime                    </td><td>1676</td><td>2015</td><td>70%</td><td>France </td><td>2.75</td><td>Â                 </td><td>Togo            </td></tr>\n",
       "\t<tr><td>A. Morin          </td><td>Atsane                   </td><td>1676</td><td>2015</td><td>70%</td><td>France </td><td>3.00</td><td>Â                 </td><td>Togo            </td></tr>\n",
       "\t<tr><td>A. Morin          </td><td>Akata                    </td><td>1680</td><td>2015</td><td>70%</td><td>France </td><td>3.50</td><td>Â                 </td><td>Togo            </td></tr>\n",
       "\t<tr><td>A. Morin          </td><td>Quilla                   </td><td>1704</td><td>2015</td><td>70%</td><td>France </td><td>3.50</td><td>Â                 </td><td>Peru            </td></tr>\n",
       "\t<tr><td>A. Morin          </td><td>Carenero                 </td><td>1315</td><td>2014</td><td>70%</td><td>France </td><td>2.75</td><td>Criollo           </td><td>Venezuela       </td></tr>\n",
       "\t<tr><td>A. Morin          </td><td>Cuba                     </td><td>1315</td><td>2014</td><td>70%</td><td>France </td><td>3.50</td><td>Â                 </td><td>Cuba            </td></tr>\n",
       "\t<tr><td>A. Morin          </td><td>Sur del Lago             </td><td>1315</td><td>2014</td><td>70%</td><td>France </td><td>3.50</td><td>Criollo           </td><td>Venezuela       </td></tr>\n",
       "\t<tr><td>A. Morin          </td><td>Puerto Cabello           </td><td>1319</td><td>2014</td><td>70%</td><td>France </td><td>3.75</td><td>Criollo           </td><td>Venezuela       </td></tr>\n",
       "\t<tr><td>A. Morin          </td><td>Pablino                  </td><td>1319</td><td>2014</td><td>70%</td><td>France </td><td>4.00</td><td>Â                 </td><td>Peru            </td></tr>\n",
       "\t<tr><td>A. Morin          </td><td>Panama                   </td><td>1011</td><td>2013</td><td>70%</td><td>France </td><td>2.75</td><td>Â                 </td><td>Panama          </td></tr>\n",
       "\t<tr><td>A. Morin          </td><td>Madagascar               </td><td>1011</td><td>2013</td><td>70%</td><td>France </td><td>3.00</td><td>Criollo           </td><td>Madagascar      </td></tr>\n",
       "\t<tr><td>A. Morin          </td><td>Brazil                   </td><td>1011</td><td>2013</td><td>70%</td><td>France </td><td>3.25</td><td>Â                 </td><td>Brazil          </td></tr>\n",
       "\t<tr><td>A. Morin          </td><td>Equateur                 </td><td>1011</td><td>2013</td><td>70%</td><td>France </td><td>3.75</td><td>Â                 </td><td>Ecuador         </td></tr>\n",
       "\t<tr><td>A. Morin          </td><td>Colombie                 </td><td>1015</td><td>2013</td><td>70%</td><td>France </td><td>2.75</td><td>Â                 </td><td>Colombia        </td></tr>\n",
       "\t<tr><td>A. Morin          </td><td>Birmanie                 </td><td>1015</td><td>2013</td><td>70%</td><td>France </td><td>3.00</td><td>Â                 </td><td>Burma           </td></tr>\n",
       "\t<tr><td>A. Morin          </td><td>Papua New Guinea         </td><td>1015</td><td>2013</td><td>70%</td><td>France </td><td>3.25</td><td>Â                 </td><td>Papua New Guinea</td></tr>\n",
       "\t<tr><td>A. Morin          </td><td>Chuao                    </td><td>1015</td><td>2013</td><td>70%</td><td>France </td><td>4.00</td><td>Trinitario        </td><td>Venezuela       </td></tr>\n",
       "\t<tr><td>A. Morin          </td><td>Piura                    </td><td>1019</td><td>2013</td><td>70%</td><td>France </td><td>3.25</td><td>Â                 </td><td>Peru            </td></tr>\n",
       "\t<tr><td>A. Morin          </td><td>Chanchamayo Province     </td><td>1019</td><td>2013</td><td>70%</td><td>France </td><td>3.50</td><td>Â                 </td><td>Peru            </td></tr>\n",
       "\t<tr><td>A. Morin          </td><td>Chanchamayo Province     </td><td>1019</td><td>2013</td><td>63%</td><td>France </td><td>4.00</td><td>Â                 </td><td>Peru            </td></tr>\n",
       "\t<tr><td>A. Morin          </td><td>Bolivia                  </td><td> 797</td><td>2012</td><td>70%</td><td>France </td><td>3.50</td><td>Â                 </td><td>Bolivia         </td></tr>\n",
       "\t<tr><td>A. Morin          </td><td>Peru                     </td><td> 797</td><td>2012</td><td>63%</td><td>France </td><td>3.75</td><td>Â                 </td><td>Peru            </td></tr>\n",
       "\t<tr><td>Acalli            </td><td>Chulucanas, El Platanal  </td><td>1462</td><td>2015</td><td>70%</td><td>U.S.A. </td><td>3.75</td><td>Â                 </td><td>Peru            </td></tr>\n",
       "\t<tr><td>Acalli            </td><td>Tumbes, Norandino        </td><td>1470</td><td>2015</td><td>70%</td><td>U.S.A. </td><td>3.75</td><td>Criollo           </td><td>Peru            </td></tr>\n",
       "\t<tr><td>Adi               </td><td>Vanua Levu               </td><td> 705</td><td>2011</td><td>60%</td><td>Fiji   </td><td>2.75</td><td>Trinitario        </td><td>Fiji            </td></tr>\n",
       "\t<tr><td>Adi               </td><td>Vanua Levu, Toto-A       </td><td> 705</td><td>2011</td><td>80%</td><td>Fiji   </td><td>3.25</td><td>Trinitario        </td><td>Fiji            </td></tr>\n",
       "\t<tr><td>Adi               </td><td>Vanua Levu               </td><td> 705</td><td>2011</td><td>88%</td><td>Fiji   </td><td>3.50</td><td>Trinitario        </td><td>Fiji            </td></tr>\n",
       "\t<tr><td>Adi               </td><td>Vanua Levu, Ami-Ami-CA   </td><td> 705</td><td>2011</td><td>72%</td><td>Fiji   </td><td>3.50</td><td>Trinitario        </td><td>Fiji            </td></tr>\n",
       "\t<tr><td>Aequare (Gianduja)</td><td>Los Rios, Quevedo, Arriba</td><td> 370</td><td>2009</td><td>55%</td><td>Ecuador</td><td>2.75</td><td>Forastero (Arriba)</td><td>Ecuador         </td></tr>\n",
       "\t<tr><td>...</td><td>...</td><td>...</td><td>...</td><td>...</td><td>...</td><td>...</td><td>...</td><td>...</td></tr>\n",
       "\t<tr><td>Zak's        </td><td>Belize, Batch 2                   </td><td>1578</td><td>2015</td><td>70%</td><td>U.S.A.   </td><td>3.50</td><td>Trinitario          </td><td>Belize            </td></tr>\n",
       "\t<tr><td>Zak's        </td><td>House Blend, Batch 2              </td><td>1582</td><td>2015</td><td>60%</td><td>U.S.A.   </td><td>3.00</td><td>Â                   </td><td>Â                 </td></tr>\n",
       "\t<tr><td>Zart Pralinen</td><td>Millot P., Ambanja                </td><td>1820</td><td>2016</td><td>70%</td><td>Austria  </td><td>3.50</td><td>Criollo, Trinitario </td><td>Madagascar        </td></tr>\n",
       "\t<tr><td>Zart Pralinen</td><td>UNOCACE                           </td><td>1824</td><td>2016</td><td>70%</td><td>Austria  </td><td>2.75</td><td>Nacional (Arriba)   </td><td>Ecuador           </td></tr>\n",
       "\t<tr><td>Zart Pralinen</td><td>San Juan Estate                   </td><td>1824</td><td>2016</td><td>85%</td><td>Austria  </td><td>2.75</td><td>Trinitario          </td><td>Trinidad          </td></tr>\n",
       "\t<tr><td>Zart Pralinen</td><td>Kakao Kamili, Kilombero Valley    </td><td>1824</td><td>2016</td><td>85%</td><td>Austria  </td><td>3.00</td><td>Criollo, Trinitario </td><td>Tanzania          </td></tr>\n",
       "\t<tr><td>Zart Pralinen</td><td>Kakao Kamili, Kilombero Valley    </td><td>1824</td><td>2016</td><td>70%</td><td>Austria  </td><td>3.50</td><td>Criollo, Trinitario </td><td>Tanzania          </td></tr>\n",
       "\t<tr><td>Zart Pralinen</td><td>San Juan Estate, Gran Couva       </td><td>1880</td><td>2016</td><td>78%</td><td>Austria  </td><td>3.50</td><td>Trinitario          </td><td>Trinidad          </td></tr>\n",
       "\t<tr><td>Zokoko       </td><td>Guadalcanal                       </td><td>1716</td><td>2016</td><td>78%</td><td>Australia</td><td>3.75</td><td>Â                   </td><td>Solomon Islands   </td></tr>\n",
       "\t<tr><td>Zokoko       </td><td>Goddess Blend                     </td><td>1780</td><td>2016</td><td>65%</td><td>Australia</td><td>3.25</td><td>Â                   </td><td>Â                 </td></tr>\n",
       "\t<tr><td>Zokoko       </td><td>Alto Beni                         </td><td> 697</td><td>2011</td><td>68%</td><td>Australia</td><td>3.50</td><td>Â                   </td><td>Bolivia           </td></tr>\n",
       "\t<tr><td>Zokoko       </td><td>Tokiala                           </td><td> 701</td><td>2011</td><td>66%</td><td>Australia</td><td>3.50</td><td>Trinitario          </td><td>Papua New Guinea  </td></tr>\n",
       "\t<tr><td>Zokoko       </td><td>Tranquilidad, Baures              </td><td> 701</td><td>2011</td><td>72%</td><td>Australia</td><td>3.75</td><td>Â                   </td><td>Bolivia           </td></tr>\n",
       "\t<tr><td>Zotter       </td><td>Raw                               </td><td>1205</td><td>2014</td><td>80%</td><td>Austria  </td><td>2.75</td><td>Â                   </td><td>Â                 </td></tr>\n",
       "\t<tr><td>Zotter       </td><td>Bocas del Toro, Cocabo Co-op      </td><td> 801</td><td>2012</td><td>72%</td><td>Austria  </td><td>3.50</td><td>Â                   </td><td>Panama            </td></tr>\n",
       "\t<tr><td>Zotter       </td><td>Amazonas Frucht                   </td><td> 801</td><td>2012</td><td>65%</td><td>Austria  </td><td>3.50</td><td>Â                   </td><td>Â                 </td></tr>\n",
       "\t<tr><td>Zotter       </td><td>Satipo Pangoa region, 16hr conche </td><td> 875</td><td>2012</td><td>70%</td><td>Austria  </td><td>3.00</td><td>Criollo (Amarru)    </td><td>Peru              </td></tr>\n",
       "\t<tr><td>Zotter       </td><td>Satipo Pangoa region, 20hr conche </td><td> 875</td><td>2012</td><td>70%</td><td>Austria  </td><td>3.50</td><td>Criollo (Amarru)    </td><td>Peru              </td></tr>\n",
       "\t<tr><td>Zotter       </td><td>Loma Los Pinos, Yacao region, D.R.</td><td> 875</td><td>2012</td><td>62%</td><td>Austria  </td><td>3.75</td><td>Â                   </td><td>Dominican Republic</td></tr>\n",
       "\t<tr><td>Zotter       </td><td>El Oro                            </td><td> 879</td><td>2012</td><td>75%</td><td>Austria  </td><td>3.00</td><td>Forastero (Nacional)</td><td>Ecuador           </td></tr>\n",
       "\t<tr><td>Zotter       </td><td>Huiwani Coop                      </td><td> 879</td><td>2012</td><td>75%</td><td>Austria  </td><td>3.00</td><td>Criollo, Trinitario </td><td>Papua New Guinea  </td></tr>\n",
       "\t<tr><td>Zotter       </td><td>El Ceibo Coop                     </td><td> 879</td><td>2012</td><td>90%</td><td>Austria  </td><td>3.25</td><td>Â                   </td><td>Bolivia           </td></tr>\n",
       "\t<tr><td>Zotter       </td><td>Santo Domingo                     </td><td> 879</td><td>2012</td><td>70%</td><td>Austria  </td><td>3.75</td><td>Â                   </td><td>Dominican Republic</td></tr>\n",
       "\t<tr><td>Zotter       </td><td>Kongo, Highlands                  </td><td> 883</td><td>2012</td><td>68%</td><td>Austria  </td><td>3.25</td><td>Forastero           </td><td>Congo             </td></tr>\n",
       "\t<tr><td>Zotter       </td><td>Indianer, Raw                     </td><td> 883</td><td>2012</td><td>58%</td><td>Austria  </td><td>3.50</td><td>Â                   </td><td>Â                 </td></tr>\n",
       "\t<tr><td>Zotter       </td><td>Peru                              </td><td> 647</td><td>2011</td><td>70%</td><td>Austria  </td><td>3.75</td><td>Â                   </td><td>Peru              </td></tr>\n",
       "\t<tr><td>Zotter       </td><td>Congo                             </td><td> 749</td><td>2011</td><td>65%</td><td>Austria  </td><td>3.00</td><td>Forastero           </td><td>Congo             </td></tr>\n",
       "\t<tr><td>Zotter       </td><td>Kerala State                      </td><td> 749</td><td>2011</td><td>65%</td><td>Austria  </td><td>3.50</td><td>Forastero           </td><td>India             </td></tr>\n",
       "\t<tr><td>Zotter       </td><td>Kerala State                      </td><td> 781</td><td>2011</td><td>62%</td><td>Austria  </td><td>3.25</td><td>Â                   </td><td>India             </td></tr>\n",
       "\t<tr><td>Zotter       </td><td>Brazil, Mitzi Blue                </td><td> 486</td><td>2010</td><td>65%</td><td>Austria  </td><td>3.00</td><td>Â                   </td><td>Brazil            </td></tr>\n",
       "</tbody>\n",
       "</table>\n"
      ],
      "text/latex": [
       "A data.frame: 1795 × 9\n",
       "\\begin{tabular}{r|lllllllll}\n",
       " CompanyÂ...Maker.if.known. & Specific.Bean.Origin.or.Bar.Name & REF & Review.Date & Cocoa.Percent & Company.Location & Rating & Bean.Type & Broad.Bean.Origin\\\\\n",
       " <fct> & <fct> & <int> & <int> & <fct> & <fct> & <dbl> & <fct> & <fct>\\\\\n",
       "\\hline\n",
       "\t A. Morin           & Agua Grande               & 1876 & 2016 & 63\\% & France  & 3.75 & Â                  & Sao Tome        \\\\\n",
       "\t A. Morin           & Kpime                     & 1676 & 2015 & 70\\% & France  & 2.75 & Â                  & Togo            \\\\\n",
       "\t A. Morin           & Atsane                    & 1676 & 2015 & 70\\% & France  & 3.00 & Â                  & Togo            \\\\\n",
       "\t A. Morin           & Akata                     & 1680 & 2015 & 70\\% & France  & 3.50 & Â                  & Togo            \\\\\n",
       "\t A. Morin           & Quilla                    & 1704 & 2015 & 70\\% & France  & 3.50 & Â                  & Peru            \\\\\n",
       "\t A. Morin           & Carenero                  & 1315 & 2014 & 70\\% & France  & 2.75 & Criollo            & Venezuela       \\\\\n",
       "\t A. Morin           & Cuba                      & 1315 & 2014 & 70\\% & France  & 3.50 & Â                  & Cuba            \\\\\n",
       "\t A. Morin           & Sur del Lago              & 1315 & 2014 & 70\\% & France  & 3.50 & Criollo            & Venezuela       \\\\\n",
       "\t A. Morin           & Puerto Cabello            & 1319 & 2014 & 70\\% & France  & 3.75 & Criollo            & Venezuela       \\\\\n",
       "\t A. Morin           & Pablino                   & 1319 & 2014 & 70\\% & France  & 4.00 & Â                  & Peru            \\\\\n",
       "\t A. Morin           & Panama                    & 1011 & 2013 & 70\\% & France  & 2.75 & Â                  & Panama          \\\\\n",
       "\t A. Morin           & Madagascar                & 1011 & 2013 & 70\\% & France  & 3.00 & Criollo            & Madagascar      \\\\\n",
       "\t A. Morin           & Brazil                    & 1011 & 2013 & 70\\% & France  & 3.25 & Â                  & Brazil          \\\\\n",
       "\t A. Morin           & Equateur                  & 1011 & 2013 & 70\\% & France  & 3.75 & Â                  & Ecuador         \\\\\n",
       "\t A. Morin           & Colombie                  & 1015 & 2013 & 70\\% & France  & 2.75 & Â                  & Colombia        \\\\\n",
       "\t A. Morin           & Birmanie                  & 1015 & 2013 & 70\\% & France  & 3.00 & Â                  & Burma           \\\\\n",
       "\t A. Morin           & Papua New Guinea          & 1015 & 2013 & 70\\% & France  & 3.25 & Â                  & Papua New Guinea\\\\\n",
       "\t A. Morin           & Chuao                     & 1015 & 2013 & 70\\% & France  & 4.00 & Trinitario         & Venezuela       \\\\\n",
       "\t A. Morin           & Piura                     & 1019 & 2013 & 70\\% & France  & 3.25 & Â                  & Peru            \\\\\n",
       "\t A. Morin           & Chanchamayo Province      & 1019 & 2013 & 70\\% & France  & 3.50 & Â                  & Peru            \\\\\n",
       "\t A. Morin           & Chanchamayo Province      & 1019 & 2013 & 63\\% & France  & 4.00 & Â                  & Peru            \\\\\n",
       "\t A. Morin           & Bolivia                   &  797 & 2012 & 70\\% & France  & 3.50 & Â                  & Bolivia         \\\\\n",
       "\t A. Morin           & Peru                      &  797 & 2012 & 63\\% & France  & 3.75 & Â                  & Peru            \\\\\n",
       "\t Acalli             & Chulucanas, El Platanal   & 1462 & 2015 & 70\\% & U.S.A.  & 3.75 & Â                  & Peru            \\\\\n",
       "\t Acalli             & Tumbes, Norandino         & 1470 & 2015 & 70\\% & U.S.A.  & 3.75 & Criollo            & Peru            \\\\\n",
       "\t Adi                & Vanua Levu                &  705 & 2011 & 60\\% & Fiji    & 2.75 & Trinitario         & Fiji            \\\\\n",
       "\t Adi                & Vanua Levu, Toto-A        &  705 & 2011 & 80\\% & Fiji    & 3.25 & Trinitario         & Fiji            \\\\\n",
       "\t Adi                & Vanua Levu                &  705 & 2011 & 88\\% & Fiji    & 3.50 & Trinitario         & Fiji            \\\\\n",
       "\t Adi                & Vanua Levu, Ami-Ami-CA    &  705 & 2011 & 72\\% & Fiji    & 3.50 & Trinitario         & Fiji            \\\\\n",
       "\t Aequare (Gianduja) & Los Rios, Quevedo, Arriba &  370 & 2009 & 55\\% & Ecuador & 2.75 & Forastero (Arriba) & Ecuador         \\\\\n",
       "\t ... & ... & ... & ... & ... & ... & ... & ... & ...\\\\\n",
       "\t Zak's         & Belize, Batch 2                    & 1578 & 2015 & 70\\% & U.S.A.    & 3.50 & Trinitario           & Belize            \\\\\n",
       "\t Zak's         & House Blend, Batch 2               & 1582 & 2015 & 60\\% & U.S.A.    & 3.00 & Â                    & Â                 \\\\\n",
       "\t Zart Pralinen & Millot P., Ambanja                 & 1820 & 2016 & 70\\% & Austria   & 3.50 & Criollo, Trinitario  & Madagascar        \\\\\n",
       "\t Zart Pralinen & UNOCACE                            & 1824 & 2016 & 70\\% & Austria   & 2.75 & Nacional (Arriba)    & Ecuador           \\\\\n",
       "\t Zart Pralinen & San Juan Estate                    & 1824 & 2016 & 85\\% & Austria   & 2.75 & Trinitario           & Trinidad          \\\\\n",
       "\t Zart Pralinen & Kakao Kamili, Kilombero Valley     & 1824 & 2016 & 85\\% & Austria   & 3.00 & Criollo, Trinitario  & Tanzania          \\\\\n",
       "\t Zart Pralinen & Kakao Kamili, Kilombero Valley     & 1824 & 2016 & 70\\% & Austria   & 3.50 & Criollo, Trinitario  & Tanzania          \\\\\n",
       "\t Zart Pralinen & San Juan Estate, Gran Couva        & 1880 & 2016 & 78\\% & Austria   & 3.50 & Trinitario           & Trinidad          \\\\\n",
       "\t Zokoko        & Guadalcanal                        & 1716 & 2016 & 78\\% & Australia & 3.75 & Â                    & Solomon Islands   \\\\\n",
       "\t Zokoko        & Goddess Blend                      & 1780 & 2016 & 65\\% & Australia & 3.25 & Â                    & Â                 \\\\\n",
       "\t Zokoko        & Alto Beni                          &  697 & 2011 & 68\\% & Australia & 3.50 & Â                    & Bolivia           \\\\\n",
       "\t Zokoko        & Tokiala                            &  701 & 2011 & 66\\% & Australia & 3.50 & Trinitario           & Papua New Guinea  \\\\\n",
       "\t Zokoko        & Tranquilidad, Baures               &  701 & 2011 & 72\\% & Australia & 3.75 & Â                    & Bolivia           \\\\\n",
       "\t Zotter        & Raw                                & 1205 & 2014 & 80\\% & Austria   & 2.75 & Â                    & Â                 \\\\\n",
       "\t Zotter        & Bocas del Toro, Cocabo Co-op       &  801 & 2012 & 72\\% & Austria   & 3.50 & Â                    & Panama            \\\\\n",
       "\t Zotter        & Amazonas Frucht                    &  801 & 2012 & 65\\% & Austria   & 3.50 & Â                    & Â                 \\\\\n",
       "\t Zotter        & Satipo Pangoa region, 16hr conche  &  875 & 2012 & 70\\% & Austria   & 3.00 & Criollo (Amarru)     & Peru              \\\\\n",
       "\t Zotter        & Satipo Pangoa region, 20hr conche  &  875 & 2012 & 70\\% & Austria   & 3.50 & Criollo (Amarru)     & Peru              \\\\\n",
       "\t Zotter        & Loma Los Pinos, Yacao region, D.R. &  875 & 2012 & 62\\% & Austria   & 3.75 & Â                    & Dominican Republic\\\\\n",
       "\t Zotter        & El Oro                             &  879 & 2012 & 75\\% & Austria   & 3.00 & Forastero (Nacional) & Ecuador           \\\\\n",
       "\t Zotter        & Huiwani Coop                       &  879 & 2012 & 75\\% & Austria   & 3.00 & Criollo, Trinitario  & Papua New Guinea  \\\\\n",
       "\t Zotter        & El Ceibo Coop                      &  879 & 2012 & 90\\% & Austria   & 3.25 & Â                    & Bolivia           \\\\\n",
       "\t Zotter        & Santo Domingo                      &  879 & 2012 & 70\\% & Austria   & 3.75 & Â                    & Dominican Republic\\\\\n",
       "\t Zotter        & Kongo, Highlands                   &  883 & 2012 & 68\\% & Austria   & 3.25 & Forastero            & Congo             \\\\\n",
       "\t Zotter        & Indianer, Raw                      &  883 & 2012 & 58\\% & Austria   & 3.50 & Â                    & Â                 \\\\\n",
       "\t Zotter        & Peru                               &  647 & 2011 & 70\\% & Austria   & 3.75 & Â                    & Peru              \\\\\n",
       "\t Zotter        & Congo                              &  749 & 2011 & 65\\% & Austria   & 3.00 & Forastero            & Congo             \\\\\n",
       "\t Zotter        & Kerala State                       &  749 & 2011 & 65\\% & Austria   & 3.50 & Forastero            & India             \\\\\n",
       "\t Zotter        & Kerala State                       &  781 & 2011 & 62\\% & Austria   & 3.25 & Â                    & India             \\\\\n",
       "\t Zotter        & Brazil, Mitzi Blue                 &  486 & 2010 & 65\\% & Austria   & 3.00 & Â                    & Brazil            \\\\\n",
       "\\end{tabular}\n"
      ],
      "text/markdown": [
       "\n",
       "A data.frame: 1795 × 9\n",
       "\n",
       "| CompanyÂ...Maker.if.known. &lt;fct&gt; | Specific.Bean.Origin.or.Bar.Name &lt;fct&gt; | REF &lt;int&gt; | Review.Date &lt;int&gt; | Cocoa.Percent &lt;fct&gt; | Company.Location &lt;fct&gt; | Rating &lt;dbl&gt; | Bean.Type &lt;fct&gt; | Broad.Bean.Origin &lt;fct&gt; |\n",
       "|---|---|---|---|---|---|---|---|---|\n",
       "| A. Morin           | Agua Grande               | 1876 | 2016 | 63% | France  | 3.75 | Â                  | Sao Tome         |\n",
       "| A. Morin           | Kpime                     | 1676 | 2015 | 70% | France  | 2.75 | Â                  | Togo             |\n",
       "| A. Morin           | Atsane                    | 1676 | 2015 | 70% | France  | 3.00 | Â                  | Togo             |\n",
       "| A. Morin           | Akata                     | 1680 | 2015 | 70% | France  | 3.50 | Â                  | Togo             |\n",
       "| A. Morin           | Quilla                    | 1704 | 2015 | 70% | France  | 3.50 | Â                  | Peru             |\n",
       "| A. Morin           | Carenero                  | 1315 | 2014 | 70% | France  | 2.75 | Criollo            | Venezuela        |\n",
       "| A. Morin           | Cuba                      | 1315 | 2014 | 70% | France  | 3.50 | Â                  | Cuba             |\n",
       "| A. Morin           | Sur del Lago              | 1315 | 2014 | 70% | France  | 3.50 | Criollo            | Venezuela        |\n",
       "| A. Morin           | Puerto Cabello            | 1319 | 2014 | 70% | France  | 3.75 | Criollo            | Venezuela        |\n",
       "| A. Morin           | Pablino                   | 1319 | 2014 | 70% | France  | 4.00 | Â                  | Peru             |\n",
       "| A. Morin           | Panama                    | 1011 | 2013 | 70% | France  | 2.75 | Â                  | Panama           |\n",
       "| A. Morin           | Madagascar                | 1011 | 2013 | 70% | France  | 3.00 | Criollo            | Madagascar       |\n",
       "| A. Morin           | Brazil                    | 1011 | 2013 | 70% | France  | 3.25 | Â                  | Brazil           |\n",
       "| A. Morin           | Equateur                  | 1011 | 2013 | 70% | France  | 3.75 | Â                  | Ecuador          |\n",
       "| A. Morin           | Colombie                  | 1015 | 2013 | 70% | France  | 2.75 | Â                  | Colombia         |\n",
       "| A. Morin           | Birmanie                  | 1015 | 2013 | 70% | France  | 3.00 | Â                  | Burma            |\n",
       "| A. Morin           | Papua New Guinea          | 1015 | 2013 | 70% | France  | 3.25 | Â                  | Papua New Guinea |\n",
       "| A. Morin           | Chuao                     | 1015 | 2013 | 70% | France  | 4.00 | Trinitario         | Venezuela        |\n",
       "| A. Morin           | Piura                     | 1019 | 2013 | 70% | France  | 3.25 | Â                  | Peru             |\n",
       "| A. Morin           | Chanchamayo Province      | 1019 | 2013 | 70% | France  | 3.50 | Â                  | Peru             |\n",
       "| A. Morin           | Chanchamayo Province      | 1019 | 2013 | 63% | France  | 4.00 | Â                  | Peru             |\n",
       "| A. Morin           | Bolivia                   |  797 | 2012 | 70% | France  | 3.50 | Â                  | Bolivia          |\n",
       "| A. Morin           | Peru                      |  797 | 2012 | 63% | France  | 3.75 | Â                  | Peru             |\n",
       "| Acalli             | Chulucanas, El Platanal   | 1462 | 2015 | 70% | U.S.A.  | 3.75 | Â                  | Peru             |\n",
       "| Acalli             | Tumbes, Norandino         | 1470 | 2015 | 70% | U.S.A.  | 3.75 | Criollo            | Peru             |\n",
       "| Adi                | Vanua Levu                |  705 | 2011 | 60% | Fiji    | 2.75 | Trinitario         | Fiji             |\n",
       "| Adi                | Vanua Levu, Toto-A        |  705 | 2011 | 80% | Fiji    | 3.25 | Trinitario         | Fiji             |\n",
       "| Adi                | Vanua Levu                |  705 | 2011 | 88% | Fiji    | 3.50 | Trinitario         | Fiji             |\n",
       "| Adi                | Vanua Levu, Ami-Ami-CA    |  705 | 2011 | 72% | Fiji    | 3.50 | Trinitario         | Fiji             |\n",
       "| Aequare (Gianduja) | Los Rios, Quevedo, Arriba |  370 | 2009 | 55% | Ecuador | 2.75 | Forastero (Arriba) | Ecuador          |\n",
       "| ... | ... | ... | ... | ... | ... | ... | ... | ... |\n",
       "| Zak's         | Belize, Batch 2                    | 1578 | 2015 | 70% | U.S.A.    | 3.50 | Trinitario           | Belize             |\n",
       "| Zak's         | House Blend, Batch 2               | 1582 | 2015 | 60% | U.S.A.    | 3.00 | Â                    | Â                  |\n",
       "| Zart Pralinen | Millot P., Ambanja                 | 1820 | 2016 | 70% | Austria   | 3.50 | Criollo, Trinitario  | Madagascar         |\n",
       "| Zart Pralinen | UNOCACE                            | 1824 | 2016 | 70% | Austria   | 2.75 | Nacional (Arriba)    | Ecuador            |\n",
       "| Zart Pralinen | San Juan Estate                    | 1824 | 2016 | 85% | Austria   | 2.75 | Trinitario           | Trinidad           |\n",
       "| Zart Pralinen | Kakao Kamili, Kilombero Valley     | 1824 | 2016 | 85% | Austria   | 3.00 | Criollo, Trinitario  | Tanzania           |\n",
       "| Zart Pralinen | Kakao Kamili, Kilombero Valley     | 1824 | 2016 | 70% | Austria   | 3.50 | Criollo, Trinitario  | Tanzania           |\n",
       "| Zart Pralinen | San Juan Estate, Gran Couva        | 1880 | 2016 | 78% | Austria   | 3.50 | Trinitario           | Trinidad           |\n",
       "| Zokoko        | Guadalcanal                        | 1716 | 2016 | 78% | Australia | 3.75 | Â                    | Solomon Islands    |\n",
       "| Zokoko        | Goddess Blend                      | 1780 | 2016 | 65% | Australia | 3.25 | Â                    | Â                  |\n",
       "| Zokoko        | Alto Beni                          |  697 | 2011 | 68% | Australia | 3.50 | Â                    | Bolivia            |\n",
       "| Zokoko        | Tokiala                            |  701 | 2011 | 66% | Australia | 3.50 | Trinitario           | Papua New Guinea   |\n",
       "| Zokoko        | Tranquilidad, Baures               |  701 | 2011 | 72% | Australia | 3.75 | Â                    | Bolivia            |\n",
       "| Zotter        | Raw                                | 1205 | 2014 | 80% | Austria   | 2.75 | Â                    | Â                  |\n",
       "| Zotter        | Bocas del Toro, Cocabo Co-op       |  801 | 2012 | 72% | Austria   | 3.50 | Â                    | Panama             |\n",
       "| Zotter        | Amazonas Frucht                    |  801 | 2012 | 65% | Austria   | 3.50 | Â                    | Â                  |\n",
       "| Zotter        | Satipo Pangoa region, 16hr conche  |  875 | 2012 | 70% | Austria   | 3.00 | Criollo (Amarru)     | Peru               |\n",
       "| Zotter        | Satipo Pangoa region, 20hr conche  |  875 | 2012 | 70% | Austria   | 3.50 | Criollo (Amarru)     | Peru               |\n",
       "| Zotter        | Loma Los Pinos, Yacao region, D.R. |  875 | 2012 | 62% | Austria   | 3.75 | Â                    | Dominican Republic |\n",
       "| Zotter        | El Oro                             |  879 | 2012 | 75% | Austria   | 3.00 | Forastero (Nacional) | Ecuador            |\n",
       "| Zotter        | Huiwani Coop                       |  879 | 2012 | 75% | Austria   | 3.00 | Criollo, Trinitario  | Papua New Guinea   |\n",
       "| Zotter        | El Ceibo Coop                      |  879 | 2012 | 90% | Austria   | 3.25 | Â                    | Bolivia            |\n",
       "| Zotter        | Santo Domingo                      |  879 | 2012 | 70% | Austria   | 3.75 | Â                    | Dominican Republic |\n",
       "| Zotter        | Kongo, Highlands                   |  883 | 2012 | 68% | Austria   | 3.25 | Forastero            | Congo              |\n",
       "| Zotter        | Indianer, Raw                      |  883 | 2012 | 58% | Austria   | 3.50 | Â                    | Â                  |\n",
       "| Zotter        | Peru                               |  647 | 2011 | 70% | Austria   | 3.75 | Â                    | Peru               |\n",
       "| Zotter        | Congo                              |  749 | 2011 | 65% | Austria   | 3.00 | Forastero            | Congo              |\n",
       "| Zotter        | Kerala State                       |  749 | 2011 | 65% | Austria   | 3.50 | Forastero            | India              |\n",
       "| Zotter        | Kerala State                       |  781 | 2011 | 62% | Austria   | 3.25 | Â                    | India              |\n",
       "| Zotter        | Brazil, Mitzi Blue                 |  486 | 2010 | 65% | Austria   | 3.00 | Â                    | Brazil             |\n",
       "\n"
      ],
      "text/plain": [
       "     CompanyÂ...Maker.if.known. Specific.Bean.Origin.or.Bar.Name   REF \n",
       "1    A. Morin                   Agua Grande                        1876\n",
       "2    A. Morin                   Kpime                              1676\n",
       "3    A. Morin                   Atsane                             1676\n",
       "4    A. Morin                   Akata                              1680\n",
       "5    A. Morin                   Quilla                             1704\n",
       "6    A. Morin                   Carenero                           1315\n",
       "7    A. Morin                   Cuba                               1315\n",
       "8    A. Morin                   Sur del Lago                       1315\n",
       "9    A. Morin                   Puerto Cabello                     1319\n",
       "10   A. Morin                   Pablino                            1319\n",
       "11   A. Morin                   Panama                             1011\n",
       "12   A. Morin                   Madagascar                         1011\n",
       "13   A. Morin                   Brazil                             1011\n",
       "14   A. Morin                   Equateur                           1011\n",
       "15   A. Morin                   Colombie                           1015\n",
       "16   A. Morin                   Birmanie                           1015\n",
       "17   A. Morin                   Papua New Guinea                   1015\n",
       "18   A. Morin                   Chuao                              1015\n",
       "19   A. Morin                   Piura                              1019\n",
       "20   A. Morin                   Chanchamayo Province               1019\n",
       "21   A. Morin                   Chanchamayo Province               1019\n",
       "22   A. Morin                   Bolivia                             797\n",
       "23   A. Morin                   Peru                                797\n",
       "24   Acalli                     Chulucanas, El Platanal            1462\n",
       "25   Acalli                     Tumbes, Norandino                  1470\n",
       "26   Adi                        Vanua Levu                          705\n",
       "27   Adi                        Vanua Levu, Toto-A                  705\n",
       "28   Adi                        Vanua Levu                          705\n",
       "29   Adi                        Vanua Levu, Ami-Ami-CA              705\n",
       "30   Aequare (Gianduja)         Los Rios, Quevedo, Arriba           370\n",
       "...  ...                        ...                                ... \n",
       "1766 Zak's                      Belize, Batch 2                    1578\n",
       "1767 Zak's                      House Blend, Batch 2               1582\n",
       "1768 Zart Pralinen              Millot P., Ambanja                 1820\n",
       "1769 Zart Pralinen              UNOCACE                            1824\n",
       "1770 Zart Pralinen              San Juan Estate                    1824\n",
       "1771 Zart Pralinen              Kakao Kamili, Kilombero Valley     1824\n",
       "1772 Zart Pralinen              Kakao Kamili, Kilombero Valley     1824\n",
       "1773 Zart Pralinen              San Juan Estate, Gran Couva        1880\n",
       "1774 Zokoko                     Guadalcanal                        1716\n",
       "1775 Zokoko                     Goddess Blend                      1780\n",
       "1776 Zokoko                     Alto Beni                           697\n",
       "1777 Zokoko                     Tokiala                             701\n",
       "1778 Zokoko                     Tranquilidad, Baures                701\n",
       "1779 Zotter                     Raw                                1205\n",
       "1780 Zotter                     Bocas del Toro, Cocabo Co-op        801\n",
       "1781 Zotter                     Amazonas Frucht                     801\n",
       "1782 Zotter                     Satipo Pangoa region, 16hr conche   875\n",
       "1783 Zotter                     Satipo Pangoa region, 20hr conche   875\n",
       "1784 Zotter                     Loma Los Pinos, Yacao region, D.R.  875\n",
       "1785 Zotter                     El Oro                              879\n",
       "1786 Zotter                     Huiwani Coop                        879\n",
       "1787 Zotter                     El Ceibo Coop                       879\n",
       "1788 Zotter                     Santo Domingo                       879\n",
       "1789 Zotter                     Kongo, Highlands                    883\n",
       "1790 Zotter                     Indianer, Raw                       883\n",
       "1791 Zotter                     Peru                                647\n",
       "1792 Zotter                     Congo                               749\n",
       "1793 Zotter                     Kerala State                        749\n",
       "1794 Zotter                     Kerala State                        781\n",
       "1795 Zotter                     Brazil, Mitzi Blue                  486\n",
       "     Review.Date Cocoa.Percent Company.Location Rating Bean.Type           \n",
       "1    2016        63%           France           3.75   Â                   \n",
       "2    2015        70%           France           2.75   Â                   \n",
       "3    2015        70%           France           3.00   Â                   \n",
       "4    2015        70%           France           3.50   Â                   \n",
       "5    2015        70%           France           3.50   Â                   \n",
       "6    2014        70%           France           2.75   Criollo             \n",
       "7    2014        70%           France           3.50   Â                   \n",
       "8    2014        70%           France           3.50   Criollo             \n",
       "9    2014        70%           France           3.75   Criollo             \n",
       "10   2014        70%           France           4.00   Â                   \n",
       "11   2013        70%           France           2.75   Â                   \n",
       "12   2013        70%           France           3.00   Criollo             \n",
       "13   2013        70%           France           3.25   Â                   \n",
       "14   2013        70%           France           3.75   Â                   \n",
       "15   2013        70%           France           2.75   Â                   \n",
       "16   2013        70%           France           3.00   Â                   \n",
       "17   2013        70%           France           3.25   Â                   \n",
       "18   2013        70%           France           4.00   Trinitario          \n",
       "19   2013        70%           France           3.25   Â                   \n",
       "20   2013        70%           France           3.50   Â                   \n",
       "21   2013        63%           France           4.00   Â                   \n",
       "22   2012        70%           France           3.50   Â                   \n",
       "23   2012        63%           France           3.75   Â                   \n",
       "24   2015        70%           U.S.A.           3.75   Â                   \n",
       "25   2015        70%           U.S.A.           3.75   Criollo             \n",
       "26   2011        60%           Fiji             2.75   Trinitario          \n",
       "27   2011        80%           Fiji             3.25   Trinitario          \n",
       "28   2011        88%           Fiji             3.50   Trinitario          \n",
       "29   2011        72%           Fiji             3.50   Trinitario          \n",
       "30   2009        55%           Ecuador          2.75   Forastero (Arriba)  \n",
       "...  ...         ...           ...              ...    ...                 \n",
       "1766 2015        70%           U.S.A.           3.50   Trinitario          \n",
       "1767 2015        60%           U.S.A.           3.00   Â                   \n",
       "1768 2016        70%           Austria          3.50   Criollo, Trinitario \n",
       "1769 2016        70%           Austria          2.75   Nacional (Arriba)   \n",
       "1770 2016        85%           Austria          2.75   Trinitario          \n",
       "1771 2016        85%           Austria          3.00   Criollo, Trinitario \n",
       "1772 2016        70%           Austria          3.50   Criollo, Trinitario \n",
       "1773 2016        78%           Austria          3.50   Trinitario          \n",
       "1774 2016        78%           Australia        3.75   Â                   \n",
       "1775 2016        65%           Australia        3.25   Â                   \n",
       "1776 2011        68%           Australia        3.50   Â                   \n",
       "1777 2011        66%           Australia        3.50   Trinitario          \n",
       "1778 2011        72%           Australia        3.75   Â                   \n",
       "1779 2014        80%           Austria          2.75   Â                   \n",
       "1780 2012        72%           Austria          3.50   Â                   \n",
       "1781 2012        65%           Austria          3.50   Â                   \n",
       "1782 2012        70%           Austria          3.00   Criollo (Amarru)    \n",
       "1783 2012        70%           Austria          3.50   Criollo (Amarru)    \n",
       "1784 2012        62%           Austria          3.75   Â                   \n",
       "1785 2012        75%           Austria          3.00   Forastero (Nacional)\n",
       "1786 2012        75%           Austria          3.00   Criollo, Trinitario \n",
       "1787 2012        90%           Austria          3.25   Â                   \n",
       "1788 2012        70%           Austria          3.75   Â                   \n",
       "1789 2012        68%           Austria          3.25   Forastero           \n",
       "1790 2012        58%           Austria          3.50   Â                   \n",
       "1791 2011        70%           Austria          3.75   Â                   \n",
       "1792 2011        65%           Austria          3.00   Forastero           \n",
       "1793 2011        65%           Austria          3.50   Forastero           \n",
       "1794 2011        62%           Austria          3.25   Â                   \n",
       "1795 2010        65%           Austria          3.00   Â                   \n",
       "     Broad.Bean.Origin \n",
       "1    Sao Tome          \n",
       "2    Togo              \n",
       "3    Togo              \n",
       "4    Togo              \n",
       "5    Peru              \n",
       "6    Venezuela         \n",
       "7    Cuba              \n",
       "8    Venezuela         \n",
       "9    Venezuela         \n",
       "10   Peru              \n",
       "11   Panama            \n",
       "12   Madagascar        \n",
       "13   Brazil            \n",
       "14   Ecuador           \n",
       "15   Colombia          \n",
       "16   Burma             \n",
       "17   Papua New Guinea  \n",
       "18   Venezuela         \n",
       "19   Peru              \n",
       "20   Peru              \n",
       "21   Peru              \n",
       "22   Bolivia           \n",
       "23   Peru              \n",
       "24   Peru              \n",
       "25   Peru              \n",
       "26   Fiji              \n",
       "27   Fiji              \n",
       "28   Fiji              \n",
       "29   Fiji              \n",
       "30   Ecuador           \n",
       "...  ...               \n",
       "1766 Belize            \n",
       "1767 Â                 \n",
       "1768 Madagascar        \n",
       "1769 Ecuador           \n",
       "1770 Trinidad          \n",
       "1771 Tanzania          \n",
       "1772 Tanzania          \n",
       "1773 Trinidad          \n",
       "1774 Solomon Islands   \n",
       "1775 Â                 \n",
       "1776 Bolivia           \n",
       "1777 Papua New Guinea  \n",
       "1778 Bolivia           \n",
       "1779 Â                 \n",
       "1780 Panama            \n",
       "1781 Â                 \n",
       "1782 Peru              \n",
       "1783 Peru              \n",
       "1784 Dominican Republic\n",
       "1785 Ecuador           \n",
       "1786 Papua New Guinea  \n",
       "1787 Bolivia           \n",
       "1788 Dominican Republic\n",
       "1789 Congo             \n",
       "1790 Â                 \n",
       "1791 Peru              \n",
       "1792 Congo             \n",
       "1793 India             \n",
       "1794 India             \n",
       "1795 Brazil            "
      ]
     },
     "metadata": {},
     "output_type": "display_data"
    }
   ],
   "source": [
    "data #look at what we are working with."
   ]
  },
  {
   "cell_type": "code",
   "execution_count": 4,
   "metadata": {},
   "outputs": [
    {
     "data": {
      "text/html": [
       "<ol class=list-inline>\n",
       "\t<li>1795</li>\n",
       "\t<li>9</li>\n",
       "</ol>\n"
      ],
      "text/latex": [
       "\\begin{enumerate*}\n",
       "\\item 1795\n",
       "\\item 9\n",
       "\\end{enumerate*}\n"
      ],
      "text/markdown": [
       "1. 1795\n",
       "2. 9\n",
       "\n",
       "\n"
      ],
      "text/plain": [
       "[1] 1795    9"
      ]
     },
     "metadata": {},
     "output_type": "display_data"
    }
   ],
   "source": [
    "dim(data) #Shape of the dataframe(No. of rows and columns dimension)"
   ]
  },
  {
   "cell_type": "code",
   "execution_count": 5,
   "metadata": {},
   "outputs": [
    {
     "data": {
      "text/html": [
       "<ol class=list-inline>\n",
       "\t<li>'CompanyÂ...Maker.if.known.'</li>\n",
       "\t<li>'Specific.Bean.Origin.or.Bar.Name'</li>\n",
       "\t<li>'REF'</li>\n",
       "\t<li>'Review.Date'</li>\n",
       "\t<li>'Cocoa.Percent'</li>\n",
       "\t<li>'Company.Location'</li>\n",
       "\t<li>'Rating'</li>\n",
       "\t<li>'Bean.Type'</li>\n",
       "\t<li>'Broad.Bean.Origin'</li>\n",
       "</ol>\n"
      ],
      "text/latex": [
       "\\begin{enumerate*}\n",
       "\\item 'CompanyÂ...Maker.if.known.'\n",
       "\\item 'Specific.Bean.Origin.or.Bar.Name'\n",
       "\\item 'REF'\n",
       "\\item 'Review.Date'\n",
       "\\item 'Cocoa.Percent'\n",
       "\\item 'Company.Location'\n",
       "\\item 'Rating'\n",
       "\\item 'Bean.Type'\n",
       "\\item 'Broad.Bean.Origin'\n",
       "\\end{enumerate*}\n"
      ],
      "text/markdown": [
       "1. 'CompanyÂ...Maker.if.known.'\n",
       "2. 'Specific.Bean.Origin.or.Bar.Name'\n",
       "3. 'REF'\n",
       "4. 'Review.Date'\n",
       "5. 'Cocoa.Percent'\n",
       "6. 'Company.Location'\n",
       "7. 'Rating'\n",
       "8. 'Bean.Type'\n",
       "9. 'Broad.Bean.Origin'\n",
       "\n",
       "\n"
      ],
      "text/plain": [
       "[1] \"CompanyÂ...Maker.if.known.\"       \"Specific.Bean.Origin.or.Bar.Name\"\n",
       "[3] \"REF\"                              \"Review.Date\"                     \n",
       "[5] \"Cocoa.Percent\"                    \"Company.Location\"                \n",
       "[7] \"Rating\"                           \"Bean.Type\"                       \n",
       "[9] \"Broad.Bean.Origin\"               "
      ]
     },
     "metadata": {},
     "output_type": "display_data"
    }
   ],
   "source": [
    "names(data)#A look at the column variable"
   ]
  },
  {
   "cell_type": "code",
   "execution_count": 6,
   "metadata": {},
   "outputs": [],
   "source": [
    "names(data) <- c(\"Company\", \"Specific_Origin\", \"Reference\", \"Year\", \"Cocoa_Percent\",\"Location\", \"Rating\", \"Type\", \"Broad_Origin\") #Rename the columns to be more readable."
   ]
  },
  {
   "cell_type": "code",
   "execution_count": 7,
   "metadata": {},
   "outputs": [
    {
     "name": "stdout",
     "output_type": "stream",
     "text": [
      "'data.frame':\t1795 obs. of  9 variables:\n",
      " $ Company        : Factor w/ 416 levels \"A. Morin\",\"Acalli\",..: 1 1 1 1 1 1 1 1 1 1 ...\n",
      " $ Specific_Origin: Factor w/ 1039 levels \"\\\"heirloom\\\", Arriba Nacional\",..: 15 494 68 16 813 175 288 923 805 731 ...\n",
      " $ Reference      : int  1876 1676 1676 1680 1704 1315 1315 1315 1319 1319 ...\n",
      " $ Year           : int  2016 2015 2015 2015 2015 2014 2014 2014 2014 2014 ...\n",
      " $ Cocoa_Percent  : Factor w/ 45 levels \"100%\",\"42%\",\"46%\",..: 14 21 21 21 21 21 21 21 21 21 ...\n",
      " $ Location       : Factor w/ 60 levels \"Amsterdam\",\"Argentina\",..: 19 19 19 19 19 19 19 19 19 19 ...\n",
      " $ Rating         : num  3.75 2.75 3 3.5 3.5 2.75 3.5 3.5 3.75 4 ...\n",
      " $ Type           : Factor w/ 42 levels \"\",\"Â \",\"Amazon\",..: 2 2 2 2 2 10 2 10 10 2 ...\n",
      " $ Broad_Origin   : Factor w/ 101 levels \"\",\"Â \",\"Africa, Carribean, C. Am.\",..: 70 80 80 80 57 93 18 93 93 57 ...\n"
     ]
    }
   ],
   "source": [
    "str(data)#describe the dataset"
   ]
  },
  {
   "cell_type": "code",
   "execution_count": 8,
   "metadata": {},
   "outputs": [],
   "source": [
    "data = select (data,-c(Reference)) #Drop reference numbers since it has no unique predictive value. It just indicates how recently an entry was made in the database. "
   ]
  },
  {
   "cell_type": "code",
   "execution_count": 9,
   "metadata": {},
   "outputs": [
    {
     "name": "stdout",
     "output_type": "stream",
     "text": [
      "'data.frame':\t1795 obs. of  8 variables:\n",
      " $ Company        : Factor w/ 416 levels \"A. Morin\",\"Acalli\",..: 1 1 1 1 1 1 1 1 1 1 ...\n",
      " $ Specific_Origin: Factor w/ 1039 levels \"\\\"heirloom\\\", Arriba Nacional\",..: 15 494 68 16 813 175 288 923 805 731 ...\n",
      " $ Year           : int  2016 2015 2015 2015 2015 2014 2014 2014 2014 2014 ...\n",
      " $ Cocoa_Percent  : Factor w/ 45 levels \"100%\",\"42%\",\"46%\",..: 14 21 21 21 21 21 21 21 21 21 ...\n",
      " $ Location       : Factor w/ 60 levels \"Amsterdam\",\"Argentina\",..: 19 19 19 19 19 19 19 19 19 19 ...\n",
      " $ Rating         : num  3.75 2.75 3 3.5 3.5 2.75 3.5 3.5 3.75 4 ...\n",
      " $ Type           : Factor w/ 42 levels \"\",\"Â \",\"Amazon\",..: 2 2 2 2 2 10 2 10 10 2 ...\n",
      " $ Broad_Origin   : Factor w/ 101 levels \"\",\"Â \",\"Africa, Carribean, C. Am.\",..: 70 80 80 80 57 93 18 93 93 57 ...\n"
     ]
    }
   ],
   "source": [
    "str(data)#describe the dataset to check if reference was dropped."
   ]
  },
  {
   "cell_type": "code",
   "execution_count": 10,
   "metadata": {},
   "outputs": [],
   "source": [
    "data$Cocoa_Percent <-gsub(\"%\", \"\", data$Cocoa_Percent) #Remove % sign from cocoa_percent variable"
   ]
  },
  {
   "cell_type": "code",
   "execution_count": 11,
   "metadata": {},
   "outputs": [
    {
     "data": {
      "text/html": [
       "<table>\n",
       "<caption>A data.frame: 6 × 8</caption>\n",
       "<thead>\n",
       "\t<tr><th scope=col>Company</th><th scope=col>Specific_Origin</th><th scope=col>Year</th><th scope=col>Cocoa_Percent</th><th scope=col>Location</th><th scope=col>Rating</th><th scope=col>Type</th><th scope=col>Broad_Origin</th></tr>\n",
       "\t<tr><th scope=col>&lt;fct&gt;</th><th scope=col>&lt;fct&gt;</th><th scope=col>&lt;int&gt;</th><th scope=col>&lt;chr&gt;</th><th scope=col>&lt;fct&gt;</th><th scope=col>&lt;dbl&gt;</th><th scope=col>&lt;fct&gt;</th><th scope=col>&lt;fct&gt;</th></tr>\n",
       "</thead>\n",
       "<tbody>\n",
       "\t<tr><td>A. Morin</td><td>Agua Grande</td><td>2016</td><td>63</td><td>France</td><td>3.75</td><td>Â      </td><td>Sao Tome </td></tr>\n",
       "\t<tr><td>A. Morin</td><td>Kpime      </td><td>2015</td><td>70</td><td>France</td><td>2.75</td><td>Â      </td><td>Togo     </td></tr>\n",
       "\t<tr><td>A. Morin</td><td>Atsane     </td><td>2015</td><td>70</td><td>France</td><td>3.00</td><td>Â      </td><td>Togo     </td></tr>\n",
       "\t<tr><td>A. Morin</td><td>Akata      </td><td>2015</td><td>70</td><td>France</td><td>3.50</td><td>Â      </td><td>Togo     </td></tr>\n",
       "\t<tr><td>A. Morin</td><td>Quilla     </td><td>2015</td><td>70</td><td>France</td><td>3.50</td><td>Â      </td><td>Peru     </td></tr>\n",
       "\t<tr><td>A. Morin</td><td>Carenero   </td><td>2014</td><td>70</td><td>France</td><td>2.75</td><td>Criollo</td><td>Venezuela</td></tr>\n",
       "</tbody>\n",
       "</table>\n"
      ],
      "text/latex": [
       "A data.frame: 6 × 8\n",
       "\\begin{tabular}{r|llllllll}\n",
       " Company & Specific\\_Origin & Year & Cocoa\\_Percent & Location & Rating & Type & Broad\\_Origin\\\\\n",
       " <fct> & <fct> & <int> & <chr> & <fct> & <dbl> & <fct> & <fct>\\\\\n",
       "\\hline\n",
       "\t A. Morin & Agua Grande & 2016 & 63 & France & 3.75 & Â       & Sao Tome \\\\\n",
       "\t A. Morin & Kpime       & 2015 & 70 & France & 2.75 & Â       & Togo     \\\\\n",
       "\t A. Morin & Atsane      & 2015 & 70 & France & 3.00 & Â       & Togo     \\\\\n",
       "\t A. Morin & Akata       & 2015 & 70 & France & 3.50 & Â       & Togo     \\\\\n",
       "\t A. Morin & Quilla      & 2015 & 70 & France & 3.50 & Â       & Peru     \\\\\n",
       "\t A. Morin & Carenero    & 2014 & 70 & France & 2.75 & Criollo & Venezuela\\\\\n",
       "\\end{tabular}\n"
      ],
      "text/markdown": [
       "\n",
       "A data.frame: 6 × 8\n",
       "\n",
       "| Company &lt;fct&gt; | Specific_Origin &lt;fct&gt; | Year &lt;int&gt; | Cocoa_Percent &lt;chr&gt; | Location &lt;fct&gt; | Rating &lt;dbl&gt; | Type &lt;fct&gt; | Broad_Origin &lt;fct&gt; |\n",
       "|---|---|---|---|---|---|---|---|\n",
       "| A. Morin | Agua Grande | 2016 | 63 | France | 3.75 | Â       | Sao Tome  |\n",
       "| A. Morin | Kpime       | 2015 | 70 | France | 2.75 | Â       | Togo      |\n",
       "| A. Morin | Atsane      | 2015 | 70 | France | 3.00 | Â       | Togo      |\n",
       "| A. Morin | Akata       | 2015 | 70 | France | 3.50 | Â       | Togo      |\n",
       "| A. Morin | Quilla      | 2015 | 70 | France | 3.50 | Â       | Peru      |\n",
       "| A. Morin | Carenero    | 2014 | 70 | France | 2.75 | Criollo | Venezuela |\n",
       "\n"
      ],
      "text/plain": [
       "  Company  Specific_Origin Year Cocoa_Percent Location Rating Type   \n",
       "1 A. Morin Agua Grande     2016 63            France   3.75   Â      \n",
       "2 A. Morin Kpime           2015 70            France   2.75   Â      \n",
       "3 A. Morin Atsane          2015 70            France   3.00   Â      \n",
       "4 A. Morin Akata           2015 70            France   3.50   Â      \n",
       "5 A. Morin Quilla          2015 70            France   3.50   Â      \n",
       "6 A. Morin Carenero        2014 70            France   2.75   Criollo\n",
       "  Broad_Origin\n",
       "1 Sao Tome    \n",
       "2 Togo        \n",
       "3 Togo        \n",
       "4 Togo        \n",
       "5 Peru        \n",
       "6 Venezuela   "
      ]
     },
     "metadata": {},
     "output_type": "display_data"
    }
   ],
   "source": [
    "head(data) #Check the % sign was removed"
   ]
  },
  {
   "cell_type": "code",
   "execution_count": 12,
   "metadata": {},
   "outputs": [],
   "source": [
    "data$Cocoa_Percent <- as.numeric(as.character(data$Cocoa_Percent)) #Convert from character to numeric data type \n",
    "data$Rating <- as.numeric(as.character(data$Rating))#Convert from character to numeric data type "
   ]
  },
  {
   "cell_type": "code",
   "execution_count": 13,
   "metadata": {},
   "outputs": [
    {
     "data": {
      "text/html": [
       "<table>\n",
       "<caption>A data.frame: 6 × 8</caption>\n",
       "<thead>\n",
       "\t<tr><th scope=col>Company</th><th scope=col>Specific_Origin</th><th scope=col>Year</th><th scope=col>Cocoa_Percent</th><th scope=col>Location</th><th scope=col>Rating</th><th scope=col>Type</th><th scope=col>Broad_Origin</th></tr>\n",
       "\t<tr><th scope=col>&lt;fct&gt;</th><th scope=col>&lt;fct&gt;</th><th scope=col>&lt;int&gt;</th><th scope=col>&lt;dbl&gt;</th><th scope=col>&lt;fct&gt;</th><th scope=col>&lt;dbl&gt;</th><th scope=col>&lt;fct&gt;</th><th scope=col>&lt;fct&gt;</th></tr>\n",
       "</thead>\n",
       "<tbody>\n",
       "\t<tr><td>A. Morin</td><td>Agua Grande</td><td>2016</td><td>63</td><td>France</td><td>3.75</td><td>Â      </td><td>Sao Tome </td></tr>\n",
       "\t<tr><td>A. Morin</td><td>Kpime      </td><td>2015</td><td>70</td><td>France</td><td>2.75</td><td>Â      </td><td>Togo     </td></tr>\n",
       "\t<tr><td>A. Morin</td><td>Atsane     </td><td>2015</td><td>70</td><td>France</td><td>3.00</td><td>Â      </td><td>Togo     </td></tr>\n",
       "\t<tr><td>A. Morin</td><td>Akata      </td><td>2015</td><td>70</td><td>France</td><td>3.50</td><td>Â      </td><td>Togo     </td></tr>\n",
       "\t<tr><td>A. Morin</td><td>Quilla     </td><td>2015</td><td>70</td><td>France</td><td>3.50</td><td>Â      </td><td>Peru     </td></tr>\n",
       "\t<tr><td>A. Morin</td><td>Carenero   </td><td>2014</td><td>70</td><td>France</td><td>2.75</td><td>Criollo</td><td>Venezuela</td></tr>\n",
       "</tbody>\n",
       "</table>\n"
      ],
      "text/latex": [
       "A data.frame: 6 × 8\n",
       "\\begin{tabular}{r|llllllll}\n",
       " Company & Specific\\_Origin & Year & Cocoa\\_Percent & Location & Rating & Type & Broad\\_Origin\\\\\n",
       " <fct> & <fct> & <int> & <dbl> & <fct> & <dbl> & <fct> & <fct>\\\\\n",
       "\\hline\n",
       "\t A. Morin & Agua Grande & 2016 & 63 & France & 3.75 & Â       & Sao Tome \\\\\n",
       "\t A. Morin & Kpime       & 2015 & 70 & France & 2.75 & Â       & Togo     \\\\\n",
       "\t A. Morin & Atsane      & 2015 & 70 & France & 3.00 & Â       & Togo     \\\\\n",
       "\t A. Morin & Akata       & 2015 & 70 & France & 3.50 & Â       & Togo     \\\\\n",
       "\t A. Morin & Quilla      & 2015 & 70 & France & 3.50 & Â       & Peru     \\\\\n",
       "\t A. Morin & Carenero    & 2014 & 70 & France & 2.75 & Criollo & Venezuela\\\\\n",
       "\\end{tabular}\n"
      ],
      "text/markdown": [
       "\n",
       "A data.frame: 6 × 8\n",
       "\n",
       "| Company &lt;fct&gt; | Specific_Origin &lt;fct&gt; | Year &lt;int&gt; | Cocoa_Percent &lt;dbl&gt; | Location &lt;fct&gt; | Rating &lt;dbl&gt; | Type &lt;fct&gt; | Broad_Origin &lt;fct&gt; |\n",
       "|---|---|---|---|---|---|---|---|\n",
       "| A. Morin | Agua Grande | 2016 | 63 | France | 3.75 | Â       | Sao Tome  |\n",
       "| A. Morin | Kpime       | 2015 | 70 | France | 2.75 | Â       | Togo      |\n",
       "| A. Morin | Atsane      | 2015 | 70 | France | 3.00 | Â       | Togo      |\n",
       "| A. Morin | Akata       | 2015 | 70 | France | 3.50 | Â       | Togo      |\n",
       "| A. Morin | Quilla      | 2015 | 70 | France | 3.50 | Â       | Peru      |\n",
       "| A. Morin | Carenero    | 2014 | 70 | France | 2.75 | Criollo | Venezuela |\n",
       "\n"
      ],
      "text/plain": [
       "  Company  Specific_Origin Year Cocoa_Percent Location Rating Type   \n",
       "1 A. Morin Agua Grande     2016 63            France   3.75   Â      \n",
       "2 A. Morin Kpime           2015 70            France   2.75   Â      \n",
       "3 A. Morin Atsane          2015 70            France   3.00   Â      \n",
       "4 A. Morin Akata           2015 70            France   3.50   Â      \n",
       "5 A. Morin Quilla          2015 70            France   3.50   Â      \n",
       "6 A. Morin Carenero        2014 70            France   2.75   Criollo\n",
       "  Broad_Origin\n",
       "1 Sao Tome    \n",
       "2 Togo        \n",
       "3 Togo        \n",
       "4 Togo        \n",
       "5 Peru        \n",
       "6 Venezuela   "
      ]
     },
     "metadata": {},
     "output_type": "display_data"
    }
   ],
   "source": [
    "head(data)"
   ]
  },
  {
   "cell_type": "code",
   "execution_count": 14,
   "metadata": {},
   "outputs": [],
   "source": [
    "data$Broad_Origin[data$Broad_Origin == 'Domincan Republic'] <- 'Dominican Republic'"
   ]
  },
  {
   "cell_type": "code",
   "execution_count": 15,
   "metadata": {},
   "outputs": [
    {
     "data": {
      "text/plain": [
       "     Company               Specific_Origin      Year      Cocoa_Percent  \n",
       " Soma    :  47   Madagascar        :  57   Min.   :2006   Min.   : 42.0  \n",
       " Bonnat  :  27   Peru              :  45   1st Qu.:2010   1st Qu.: 70.0  \n",
       " Fresco  :  26   Ecuador           :  42   Median :2013   Median : 70.0  \n",
       " Pralus  :  25   Dominican Republic:  37   Mean   :2012   Mean   : 71.7  \n",
       " A. Morin:  23   Venezuela         :  21   3rd Qu.:2015   3rd Qu.: 75.0  \n",
       " Arete   :  22   Chuao             :  19   Max.   :2017   Max.   :100.0  \n",
       " (Other) :1625   (Other)           :1574                                 \n",
       "    Location       Rating                        Type    \n",
       " U.S.A. :764   Min.   :1.000   Â                   :887  \n",
       " France :156   1st Qu.:2.875   Trinitario          :419  \n",
       " Canada :125   Median :3.250   Criollo             :153  \n",
       " U.K.   : 96   Mean   :3.186   Forastero           : 87  \n",
       " Italy  : 63   3rd Qu.:3.500   Forastero (Nacional): 52  \n",
       " Ecuador: 54   Max.   :5.000   Blend               : 41  \n",
       " (Other):537                   (Other)             :156  \n",
       "             Broad_Origin\n",
       " Venezuela         :214  \n",
       " Ecuador           :193  \n",
       " Dominican Republic:166  \n",
       " Peru              :165  \n",
       " Madagascar        :145  \n",
       " Â                 : 73  \n",
       " (Other)           :839  "
      ]
     },
     "metadata": {},
     "output_type": "display_data"
    }
   ],
   "source": [
    "summary(data)#describe the summary stats for the dataset"
   ]
  },
  {
   "cell_type": "markdown",
   "metadata": {},
   "source": [
    "**Rating**"
   ]
  },
  {
   "cell_type": "code",
   "execution_count": 16,
   "metadata": {},
   "outputs": [
    {
     "data": {
      "text/html": [
       "<table>\n",
       "<caption>A tibble: 13 × 2</caption>\n",
       "<thead>\n",
       "\t<tr><th scope=col>Rating</th><th scope=col>counts</th></tr>\n",
       "\t<tr><th scope=col>&lt;dbl&gt;</th><th scope=col>&lt;int&gt;</th></tr>\n",
       "</thead>\n",
       "<tbody>\n",
       "\t<tr><td>1.00</td><td>  4</td></tr>\n",
       "\t<tr><td>1.50</td><td> 10</td></tr>\n",
       "\t<tr><td>1.75</td><td>  3</td></tr>\n",
       "\t<tr><td>2.00</td><td> 32</td></tr>\n",
       "\t<tr><td>2.25</td><td> 14</td></tr>\n",
       "\t<tr><td>2.50</td><td>127</td></tr>\n",
       "\t<tr><td>2.75</td><td>259</td></tr>\n",
       "\t<tr><td>3.00</td><td>341</td></tr>\n",
       "\t<tr><td>3.25</td><td>303</td></tr>\n",
       "\t<tr><td>3.50</td><td>392</td></tr>\n",
       "\t<tr><td>3.75</td><td>210</td></tr>\n",
       "\t<tr><td>4.00</td><td> 98</td></tr>\n",
       "\t<tr><td>5.00</td><td>  2</td></tr>\n",
       "</tbody>\n",
       "</table>\n"
      ],
      "text/latex": [
       "A tibble: 13 × 2\n",
       "\\begin{tabular}{r|ll}\n",
       " Rating & counts\\\\\n",
       " <dbl> & <int>\\\\\n",
       "\\hline\n",
       "\t 1.00 &   4\\\\\n",
       "\t 1.50 &  10\\\\\n",
       "\t 1.75 &   3\\\\\n",
       "\t 2.00 &  32\\\\\n",
       "\t 2.25 &  14\\\\\n",
       "\t 2.50 & 127\\\\\n",
       "\t 2.75 & 259\\\\\n",
       "\t 3.00 & 341\\\\\n",
       "\t 3.25 & 303\\\\\n",
       "\t 3.50 & 392\\\\\n",
       "\t 3.75 & 210\\\\\n",
       "\t 4.00 &  98\\\\\n",
       "\t 5.00 &   2\\\\\n",
       "\\end{tabular}\n"
      ],
      "text/markdown": [
       "\n",
       "A tibble: 13 × 2\n",
       "\n",
       "| Rating &lt;dbl&gt; | counts &lt;int&gt; |\n",
       "|---|---|\n",
       "| 1.00 |   4 |\n",
       "| 1.50 |  10 |\n",
       "| 1.75 |   3 |\n",
       "| 2.00 |  32 |\n",
       "| 2.25 |  14 |\n",
       "| 2.50 | 127 |\n",
       "| 2.75 | 259 |\n",
       "| 3.00 | 341 |\n",
       "| 3.25 | 303 |\n",
       "| 3.50 | 392 |\n",
       "| 3.75 | 210 |\n",
       "| 4.00 |  98 |\n",
       "| 5.00 |   2 |\n",
       "\n"
      ],
      "text/plain": [
       "   Rating counts\n",
       "1  1.00     4   \n",
       "2  1.50    10   \n",
       "3  1.75     3   \n",
       "4  2.00    32   \n",
       "5  2.25    14   \n",
       "6  2.50   127   \n",
       "7  2.75   259   \n",
       "8  3.00   341   \n",
       "9  3.25   303   \n",
       "10 3.50   392   \n",
       "11 3.75   210   \n",
       "12 4.00    98   \n",
       "13 5.00     2   "
      ]
     },
     "metadata": {},
     "output_type": "display_data"
    }
   ],
   "source": [
    "# Compute the rating frequency\n",
    "library(dplyr)\n",
    "df <- data %>%\n",
    "  group_by(Rating) %>%\n",
    "  summarise(counts = n())\n",
    "df"
   ]
  },
  {
   "cell_type": "code",
   "execution_count": 17,
   "metadata": {},
   "outputs": [
    {
     "data": {
      "image/png": "[encoded data removed]",
      "text/plain": [
       "plot without title"
      ]
     },
     "metadata": {},
     "output_type": "display_data"
    }
   ],
   "source": [
    "ggplot(data, aes(Rating))+\n",
    "    geom_bar(fill = \"#0073C2FF\")+\n",
    "    labs(title=\"Ratings Count distribution\")"
   ]
  },
  {
   "cell_type": "code",
   "execution_count": 18,
   "metadata": {},
   "outputs": [
    {
     "data": {
      "text/html": [
       "<table>\n",
       "<caption>A data.frame: 6 × 8</caption>\n",
       "<thead>\n",
       "\t<tr><th scope=col>Company</th><th scope=col>Specific_Origin</th><th scope=col>Year</th><th scope=col>Cocoa_Percent</th><th scope=col>Location</th><th scope=col>Rating</th><th scope=col>Type</th><th scope=col>Broad_Origin</th></tr>\n",
       "\t<tr><th scope=col>&lt;fct&gt;</th><th scope=col>&lt;fct&gt;</th><th scope=col>&lt;int&gt;</th><th scope=col>&lt;dbl&gt;</th><th scope=col>&lt;fct&gt;</th><th scope=col>&lt;dbl&gt;</th><th scope=col>&lt;fct&gt;</th><th scope=col>&lt;fct&gt;</th></tr>\n",
       "</thead>\n",
       "<tbody>\n",
       "\t<tr><td>Amedei             </td><td>Chuao             </td><td>2007</td><td> 70</td><td>Italy   </td><td>5</td><td>Trinitario</td><td>Venezuela          </td></tr>\n",
       "\t<tr><td>Amedei             </td><td>Toscano Black     </td><td>2006</td><td> 70</td><td>Italy   </td><td>5</td><td>Blend     </td><td>Â                  </td></tr>\n",
       "\t<tr><td>Callebaut          </td><td>Baking            </td><td>2007</td><td> 70</td><td>Belgium </td><td>1</td><td>Â         </td><td>Ecuador            </td></tr>\n",
       "\t<tr><td><span style=white-space:pre-wrap>Claudio Corallo    </span></td><td><span style=white-space:pre-wrap>Principe          </span></td><td>2008</td><td>100</td><td>Sao Tome</td><td>1</td><td>Forastero </td><td>Sao Tome &amp; Principe</td></tr>\n",
       "\t<tr><td>Cote d' Or (Kraft) </td><td>Sensations Intense</td><td>2006</td><td> 70</td><td>Belgium </td><td>1</td><td>Â         </td><td>Â                  </td></tr>\n",
       "\t<tr><td>Neuhaus (Callebaut)</td><td>Dark              </td><td>2007</td><td> 73</td><td>Belgium </td><td>1</td><td>Â         </td><td>Â                  </td></tr>\n",
       "</tbody>\n",
       "</table>\n"
      ],
      "text/latex": [
       "A data.frame: 6 × 8\n",
       "\\begin{tabular}{r|llllllll}\n",
       " Company & Specific\\_Origin & Year & Cocoa\\_Percent & Location & Rating & Type & Broad\\_Origin\\\\\n",
       " <fct> & <fct> & <int> & <dbl> & <fct> & <dbl> & <fct> & <fct>\\\\\n",
       "\\hline\n",
       "\t Amedei              & Chuao              & 2007 &  70 & Italy    & 5 & Trinitario & Venezuela          \\\\\n",
       "\t Amedei              & Toscano Black      & 2006 &  70 & Italy    & 5 & Blend      & Â                  \\\\\n",
       "\t Callebaut           & Baking             & 2007 &  70 & Belgium  & 1 & Â          & Ecuador            \\\\\n",
       "\t Claudio Corallo     & Principe           & 2008 & 100 & Sao Tome & 1 & Forastero  & Sao Tome \\& Principe\\\\\n",
       "\t Cote d' Or (Kraft)  & Sensations Intense & 2006 &  70 & Belgium  & 1 & Â          & Â                  \\\\\n",
       "\t Neuhaus (Callebaut) & Dark               & 2007 &  73 & Belgium  & 1 & Â          & Â                  \\\\\n",
       "\\end{tabular}\n"
      ],
      "text/markdown": [
       "\n",
       "A data.frame: 6 × 8\n",
       "\n",
       "| Company &lt;fct&gt; | Specific_Origin &lt;fct&gt; | Year &lt;int&gt; | Cocoa_Percent &lt;dbl&gt; | Location &lt;fct&gt; | Rating &lt;dbl&gt; | Type &lt;fct&gt; | Broad_Origin &lt;fct&gt; |\n",
       "|---|---|---|---|---|---|---|---|\n",
       "| Amedei              | Chuao              | 2007 |  70 | Italy    | 5 | Trinitario | Venezuela           |\n",
       "| Amedei              | Toscano Black      | 2006 |  70 | Italy    | 5 | Blend      | Â                   |\n",
       "| Callebaut           | Baking             | 2007 |  70 | Belgium  | 1 | Â          | Ecuador             |\n",
       "| Claudio Corallo     | Principe           | 2008 | 100 | Sao Tome | 1 | Forastero  | Sao Tome &amp; Principe |\n",
       "| Cote d' Or (Kraft)  | Sensations Intense | 2006 |  70 | Belgium  | 1 | Â          | Â                   |\n",
       "| Neuhaus (Callebaut) | Dark               | 2007 |  73 | Belgium  | 1 | Â          | Â                   |\n",
       "\n"
      ],
      "text/plain": [
       "  Company             Specific_Origin    Year Cocoa_Percent Location Rating\n",
       "1 Amedei              Chuao              2007  70           Italy    5     \n",
       "2 Amedei              Toscano Black      2006  70           Italy    5     \n",
       "3 Callebaut           Baking             2007  70           Belgium  1     \n",
       "4 Claudio Corallo     Principe           2008 100           Sao Tome 1     \n",
       "5 Cote d' Or (Kraft)  Sensations Intense 2006  70           Belgium  1     \n",
       "6 Neuhaus (Callebaut) Dark               2007  73           Belgium  1     \n",
       "  Type       Broad_Origin       \n",
       "1 Trinitario Venezuela          \n",
       "2 Blend      Â                  \n",
       "3 Â          Ecuador            \n",
       "4 Forastero  Sao Tome & Principe\n",
       "5 Â          Â                  \n",
       "6 Â          Â                  "
      ]
     },
     "metadata": {},
     "output_type": "display_data"
    }
   ],
   "source": [
    "data %>% filter((Rating == 5)|(Rating == 1))#Which countries produce the highest-rated bars"
   ]
  },
  {
   "cell_type": "code",
   "execution_count": 19,
   "metadata": {},
   "outputs": [
    {
     "data": {
      "text/plain": [
       "   Min. 1st Qu.  Median    Mean 3rd Qu.    Max. \n",
       "  1.000   2.875   3.250   3.186   3.500   5.000 "
      ]
     },
     "metadata": {},
     "output_type": "display_data"
    },
    {
     "data": {
      "text/html": [
       "0.478062393586331"
      ],
      "text/latex": [
       "0.478062393586331"
      ],
      "text/markdown": [
       "0.478062393586331"
      ],
      "text/plain": [
       "[1] 0.4780624"
      ]
     },
     "metadata": {},
     "output_type": "display_data"
    }
   ],
   "source": [
    "summary(data$Rating)\n",
    "sd(data$Rating)"
   ]
  },
  {
   "cell_type": "markdown",
   "metadata": {},
   "source": [
    "+ *Rating is normally distributed with a mean of 3.2 thus most chocolates are deemed by the dataset description to be satisfactory*\n",
    "+ *Notice there are outliers rated at 1(4 bars) and 5(2 bars)*\n",
    "+ *Amedei in Italy has the highest ratings both at 5. While lowest rated mostly are from Belgium.*\n",
    "+ *A standard deviation of 0.5 captures a narrow range (2.70 and 3.70) between the min (1.0) and max (5.0) where ratings are closely clustered to the average.*\n",
    "+ *With median being higher than mean this might mean the raters are more likely to give out a low rating than a higher one*"
   ]
  },
  {
   "cell_type": "markdown",
   "metadata": {},
   "source": [
    "**Cocoa Percentage**"
   ]
  },
  {
   "cell_type": "code",
   "execution_count": 20,
   "metadata": {},
   "outputs": [
    {
     "data": {
      "image/png": "[encoded data removed]",
      "text/plain": [
       "plot without title"
      ]
     },
     "metadata": {},
     "output_type": "display_data"
    }
   ],
   "source": [
    "ggplot(data, aes(Cocoa_Percent, Rating))+\n",
    "    geom_point(alpha =0.3)+\n",
    "    geom_smooth(se=FALSE, method = \"lm\")+\n",
    "    labs(title=\" Cocoa Percentage vs Rating\", x=\"Cocoa Percentage (%)\", y=\"Rating (/5)\")#Cocoa percentage versus Ratings"
   ]
  },
  {
   "cell_type": "markdown",
   "metadata": {},
   "source": [
    "+ *As `cocoa_percent` increases the `rating` goes down.A higher cocoa percentage reflects to a lower rating.*\n",
    "+ *Most chocolate bars have a cocoa percentage of around 70%*"
   ]
  },
  {
   "cell_type": "markdown",
   "metadata": {},
   "source": [
    "**Company**"
   ]
  },
  {
   "cell_type": "code",
   "execution_count": 21,
   "metadata": {},
   "outputs": [
    {
     "data": {
      "text/html": [
       "<table>\n",
       "<caption>A tibble: 10 × 2</caption>\n",
       "<thead>\n",
       "\t<tr><th scope=col>Company</th><th scope=col>Count</th></tr>\n",
       "\t<tr><th scope=col>&lt;fct&gt;</th><th scope=col>&lt;int&gt;</th></tr>\n",
       "</thead>\n",
       "<tbody>\n",
       "\t<tr><td>Soma                      </td><td>47</td></tr>\n",
       "\t<tr><td>Bonnat                    </td><td>27</td></tr>\n",
       "\t<tr><td>Fresco                    </td><td>26</td></tr>\n",
       "\t<tr><td>Pralus                    </td><td>25</td></tr>\n",
       "\t<tr><td>A. Morin                  </td><td>23</td></tr>\n",
       "\t<tr><td>Arete                     </td><td>22</td></tr>\n",
       "\t<tr><td>Domori                    </td><td>22</td></tr>\n",
       "\t<tr><td>Guittard                  </td><td>22</td></tr>\n",
       "\t<tr><td>Valrhona                  </td><td>21</td></tr>\n",
       "\t<tr><td>Hotel Chocolat (Coppeneur)</td><td>19</td></tr>\n",
       "</tbody>\n",
       "</table>\n"
      ],
      "text/latex": [
       "A tibble: 10 × 2\n",
       "\\begin{tabular}{r|ll}\n",
       " Company & Count\\\\\n",
       " <fct> & <int>\\\\\n",
       "\\hline\n",
       "\t Soma                       & 47\\\\\n",
       "\t Bonnat                     & 27\\\\\n",
       "\t Fresco                     & 26\\\\\n",
       "\t Pralus                     & 25\\\\\n",
       "\t A. Morin                   & 23\\\\\n",
       "\t Arete                      & 22\\\\\n",
       "\t Domori                     & 22\\\\\n",
       "\t Guittard                   & 22\\\\\n",
       "\t Valrhona                   & 21\\\\\n",
       "\t Hotel Chocolat (Coppeneur) & 19\\\\\n",
       "\\end{tabular}\n"
      ],
      "text/markdown": [
       "\n",
       "A tibble: 10 × 2\n",
       "\n",
       "| Company &lt;fct&gt; | Count &lt;int&gt; |\n",
       "|---|---|\n",
       "| Soma                       | 47 |\n",
       "| Bonnat                     | 27 |\n",
       "| Fresco                     | 26 |\n",
       "| Pralus                     | 25 |\n",
       "| A. Morin                   | 23 |\n",
       "| Arete                      | 22 |\n",
       "| Domori                     | 22 |\n",
       "| Guittard                   | 22 |\n",
       "| Valrhona                   | 21 |\n",
       "| Hotel Chocolat (Coppeneur) | 19 |\n",
       "\n"
      ],
      "text/plain": [
       "   Company                    Count\n",
       "1  Soma                       47   \n",
       "2  Bonnat                     27   \n",
       "3  Fresco                     26   \n",
       "4  Pralus                     25   \n",
       "5  A. Morin                   23   \n",
       "6  Arete                      22   \n",
       "7  Domori                     22   \n",
       "8  Guittard                   22   \n",
       "9  Valrhona                   21   \n",
       "10 Hotel Chocolat (Coppeneur) 19   "
      ]
     },
     "metadata": {},
     "output_type": "display_data"
    }
   ],
   "source": [
    "data %>% group_by(Company) %>% summarise(Count= n())%>%\n",
    "  top_n(10, wt = Count)%>%arrange(desc(Count))"
   ]
  },
  {
   "cell_type": "code",
   "execution_count": 22,
   "metadata": {},
   "outputs": [
    {
     "data": {
      "image/png": "[encoded data removed]",
      "text/plain": [
       "plot without title"
      ]
     },
     "metadata": {},
     "output_type": "display_data"
    }
   ],
   "source": [
    "data %>% group_by(Company) %>% summarise(Count= n())%>%\n",
    "  top_n(10, wt = Count)%>%arrange(desc(Count))%>%\n",
    "ggplot(aes(reorder(Company, -Count),  Count, fill = Count)) + \n",
    "  geom_bar(stat = \"identity\") +scale_fill_continuous(trans = 'reverse')+xlab(\"Company\") +ylab(\"Count\")+\n",
    "  labs(title=\"Chocolate bars manufacturing companies\", subtitle = \"Top 10\")+\n",
    "  theme(axis.text.x = element_text(angle = 45, vjust = 0.8, hjust=1))"
   ]
  },
  {
   "cell_type": "markdown",
   "metadata": {},
   "source": [
    "+ *The top 10 chocolate making companies in the dataset are Soma, Bonnat, Fresco, Pralus, A. Morin, Arete, Domori, Guittard,Valrhona and Hotel chocolat(coppeneur).*"
   ]
  },
  {
   "cell_type": "markdown",
   "metadata": {},
   "source": [
    "**Year**"
   ]
  },
  {
   "cell_type": "code",
   "execution_count": 23,
   "metadata": {},
   "outputs": [
    {
     "data": {
      "image/png": "[encoded data removed]",
      "text/plain": [
       "plot without title"
      ]
     },
     "metadata": {},
     "output_type": "display_data"
    }
   ],
   "source": [
    "data %>% group_by(Year) %>% summarise(Count= n())%>%\n",
    "  ggplot(aes(x =Year, y = Count, fill = Count)) + geom_bar(stat = \"identity\") + \n",
    "  scale_fill_continuous(trans = 'reverse')+\n",
    "  labs(title=\"Rating count distribution over the years\", subtitle = \"Chocolate bars rated\")+\n",
    "  theme(axis.text.x = element_text(angle = 45, vjust = 0.8, hjust=1)) #Rating Year"
   ]
  },
  {
   "cell_type": "markdown",
   "metadata": {},
   "source": [
    "+ *From 2006, when around 70 chocolate bars were rated, there was a yearly steady rating count increase until its highest at around 280 in 2015 then decreased significantly to less than 50 ratings.* "
   ]
  },
  {
   "cell_type": "code",
   "execution_count": 24,
   "metadata": {},
   "outputs": [
    {
     "data": {
      "image/png": "[encoded data removed]",
      "text/plain": [
       "plot without title"
      ]
     },
     "metadata": {},
     "output_type": "display_data"
    }
   ],
   "source": [
    "data %>% group_by(Location) %>% summarise(Count= n())%>% \n",
    "    ggplot(aes(x =reorder(Location,Count), y =Count, fill = Count)) + geom_bar(stat = \"identity\") + \n",
    "    scale_fill_continuous(trans = 'reverse')+coord_flip()+xlab(\"Countries\") +ylab(\"Count\")+\n",
    "    labs(title=\"Chocolate manufacturers count distribution\", subtitle = \"Country location most to least\")+\n",
    "    theme(axis.text.x = element_text(angle = 45, vjust = 0.8, hjust=1))"
   ]
  },
  {
   "cell_type": "markdown",
   "metadata": {},
   "source": [
    "+ *The chocolate making companies are highest in USA with around 750*"
   ]
  },
  {
   "cell_type": "markdown",
   "metadata": {},
   "source": [
    "**Type**"
   ]
  },
  {
   "cell_type": "code",
   "execution_count": 25,
   "metadata": {},
   "outputs": [
    {
     "data": {
      "image/png": "[encoded data removed]",
      "text/plain": [
       "plot without title"
      ]
     },
     "metadata": {},
     "output_type": "display_data"
    }
   ],
   "source": [
    "data %>% group_by(Type) %>% summarise(Count= n())%>%\n",
    "   ggplot(aes(x =reorder(Type,-Count), y =Count, fill = Count)) + geom_bar(stat = \"identity\") + \n",
    "   scale_fill_continuous(trans = 'reverse')+xlab(\"Type\") +ylab(\"Count\")+\n",
    "   labs(title=\"Cocoa bean type\", subtitle = \"Count distribution most to least\")+\n",
    "   theme(axis.text.x = element_text(angle = 45, vjust = 0.8, hjust=1))"
   ]
  },
  {
   "cell_type": "markdown",
   "metadata": {},
   "source": [
    "+ *From the specified type, chocolates made exclusively with the Trinitario variety are the most common. It accounts for at least double that of Criollo and Forastero.*"
   ]
  },
  {
   "cell_type": "markdown",
   "metadata": {},
   "source": [
    "**Bean Origin**"
   ]
  },
  {
   "cell_type": "code",
   "execution_count": 26,
   "metadata": {},
   "outputs": [
    {
     "data": {
      "text/html": [
       "<table>\n",
       "<caption>A tibble: 10 × 3</caption>\n",
       "<thead>\n",
       "\t<tr><th scope=col>Broad_Origin</th><th scope=col>Count</th><th scope=col>pct</th></tr>\n",
       "\t<tr><th scope=col>&lt;fct&gt;</th><th scope=col>&lt;int&gt;</th><th scope=col>&lt;dbl&gt;</th></tr>\n",
       "</thead>\n",
       "<tbody>\n",
       "\t<tr><td>Venezuela         </td><td>214</td><td>0.11922006</td></tr>\n",
       "\t<tr><td>Ecuador           </td><td>193</td><td>0.10752089</td></tr>\n",
       "\t<tr><td>Dominican Republic</td><td>166</td><td>0.09247911</td></tr>\n",
       "\t<tr><td>Peru              </td><td>165</td><td>0.09192201</td></tr>\n",
       "\t<tr><td>Madagascar        </td><td>145</td><td>0.08077994</td></tr>\n",
       "\t<tr><td>Â                 </td><td> 73</td><td>0.04066852</td></tr>\n",
       "\t<tr><td>Nicaragua         </td><td> 60</td><td>0.03342618</td></tr>\n",
       "\t<tr><td>Brazil            </td><td> 58</td><td>0.03231198</td></tr>\n",
       "\t<tr><td>Bolivia           </td><td> 57</td><td>0.03175487</td></tr>\n",
       "\t<tr><td>Belize            </td><td> 49</td><td>0.02729805</td></tr>\n",
       "</tbody>\n",
       "</table>\n"
      ],
      "text/latex": [
       "A tibble: 10 × 3\n",
       "\\begin{tabular}{r|lll}\n",
       " Broad\\_Origin & Count & pct\\\\\n",
       " <fct> & <int> & <dbl>\\\\\n",
       "\\hline\n",
       "\t Venezuela          & 214 & 0.11922006\\\\\n",
       "\t Ecuador            & 193 & 0.10752089\\\\\n",
       "\t Dominican Republic & 166 & 0.09247911\\\\\n",
       "\t Peru               & 165 & 0.09192201\\\\\n",
       "\t Madagascar         & 145 & 0.08077994\\\\\n",
       "\t Â                  &  73 & 0.04066852\\\\\n",
       "\t Nicaragua          &  60 & 0.03342618\\\\\n",
       "\t Brazil             &  58 & 0.03231198\\\\\n",
       "\t Bolivia            &  57 & 0.03175487\\\\\n",
       "\t Belize             &  49 & 0.02729805\\\\\n",
       "\\end{tabular}\n"
      ],
      "text/markdown": [
       "\n",
       "A tibble: 10 × 3\n",
       "\n",
       "| Broad_Origin &lt;fct&gt; | Count &lt;int&gt; | pct &lt;dbl&gt; |\n",
       "|---|---|---|\n",
       "| Venezuela          | 214 | 0.11922006 |\n",
       "| Ecuador            | 193 | 0.10752089 |\n",
       "| Dominican Republic | 166 | 0.09247911 |\n",
       "| Peru               | 165 | 0.09192201 |\n",
       "| Madagascar         | 145 | 0.08077994 |\n",
       "| Â                  |  73 | 0.04066852 |\n",
       "| Nicaragua          |  60 | 0.03342618 |\n",
       "| Brazil             |  58 | 0.03231198 |\n",
       "| Bolivia            |  57 | 0.03175487 |\n",
       "| Belize             |  49 | 0.02729805 |\n",
       "\n"
      ],
      "text/plain": [
       "   Broad_Origin       Count pct       \n",
       "1  Venezuela          214   0.11922006\n",
       "2  Ecuador            193   0.10752089\n",
       "3  Dominican Republic 166   0.09247911\n",
       "4  Peru               165   0.09192201\n",
       "5  Madagascar         145   0.08077994\n",
       "6  Â                   73   0.04066852\n",
       "7  Nicaragua           60   0.03342618\n",
       "8  Brazil              58   0.03231198\n",
       "9  Bolivia             57   0.03175487\n",
       "10 Belize              49   0.02729805"
      ]
     },
     "metadata": {},
     "output_type": "display_data"
    }
   ],
   "source": [
    "data %>% group_by(Broad_Origin) %>% summarise(Count= n())%>% mutate(pct=Count/sum(Count)) %>%\n",
    "top_n(10, wt = Count)%>%arrange(desc(Count))"
   ]
  },
  {
   "cell_type": "code",
   "execution_count": 27,
   "metadata": {},
   "outputs": [
    {
     "data": {
      "image/png": "[encoded data removed]",
      "text/plain": [
       "plot without title"
      ]
     },
     "metadata": {},
     "output_type": "display_data"
    }
   ],
   "source": [
    "data %>% group_by(Broad_Origin) %>% summarise(Count= n())%>%\n",
    "    top_n(10, wt = Count)%>%arrange(desc(Count))%>%\n",
    "ggplot(aes(x =reorder(Broad_Origin,-Count), y =Count, fill = Count)) + geom_bar(stat = \"identity\") + \n",
    "   scale_fill_continuous(trans = 'reverse')+xlab(\"Bean origin\") +ylab(\"Count\")+\n",
    "   labs(title=\"Cocoa bean country origin \", subtitle = \"Count distribution most to least\")+\n",
    "   theme(axis.text.x = element_text(angle = 45, vjust = 0.8, hjust=1))"
   ]
  },
  {
   "cell_type": "markdown",
   "metadata": {},
   "source": [
    "+ *The leading bean origin countries are mostly from South America with Venezuela, Ecuador, Dominican Republic and Peru taking lead.*\n",
    "+ *Venezuela is the only bean origin country with a 5 rating bar.*"
   ]
  },
  {
   "cell_type": "code",
   "execution_count": 28,
   "metadata": {},
   "outputs": [
    {
     "data": {
      "image/png": "[encoded data removed]",
      "text/plain": [
       "plot without title"
      ]
     },
     "metadata": {},
     "output_type": "display_data"
    }
   ],
   "source": [
    "data %>% group_by(Location,Broad_Origin) %>% count() %>% filter(n>=5) %>%\n",
    "  ggplot(aes(x = Location, y = Broad_Origin,fill=n))+geom_tile()+scale_fill_distiller(palette = \"Spectral\")+\n",
    "  labs(title=\"Cocoa producers Vs Chocolate manufacturers\", subtitle = \"Location flow\",fill=\"Flow Frequency\")+\n",
    "  xlab(\"Chcolate Manufacturers location\") +ylab(\"Bean Producers location\")+\n",
    "  theme(axis.text.x = element_text(angle = 90))"
   ]
  },
  {
   "cell_type": "markdown",
   "metadata": {},
   "source": [
    "+ *With the exception of Ecuador most of the top chocolate making countries seem not to be also cocoa producers*"
   ]
  },
  {
   "cell_type": "markdown",
   "metadata": {},
   "source": [
    "*Time Series*"
   ]
  },
  {
   "cell_type": "code",
   "execution_count": 29,
   "metadata": {},
   "outputs": [
    {
     "data": {
      "image/png": "[encoded data removed]",
      "text/plain": [
       "plot without title"
      ]
     },
     "metadata": {},
     "output_type": "display_data"
    }
   ],
   "source": [
    "data %>% group_by(Year) %>% ggplot(aes(x=Year,y=Rating, group = Year))+\n",
    "  geom_boxplot()+theme(legend.position = \"none\")+labs(x=\"year\",title=\"Rating change stats over years\")"
   ]
  },
  {
   "cell_type": "markdown",
   "metadata": {},
   "source": [
    "+ *Average ratings over the year scored between 3 and 3.5 and with steady increase over time*"
   ]
  },
  {
   "cell_type": "code",
   "execution_count": 30,
   "metadata": {},
   "outputs": [
    {
     "data": {
      "image/png": "[encoded data removed]",
      "text/plain": [
       "plot without title"
      ]
     },
     "metadata": {},
     "output_type": "display_data"
    }
   ],
   "source": [
    "data %>%\n",
    " group_by(Year) %>%\n",
    "  summarise(averagerating=mean(Rating),sdrating=sd(Rating))%>%\n",
    "ggplot(aes(x=Year,y=averagerating,color=averagerating))+\n",
    "    geom_line()+xlab(\"Year\") +ylab(\"Rating_Average\")+labs(title=\"Average chocolate bar rating over the years\")"
   ]
  },
  {
   "cell_type": "markdown",
   "metadata": {},
   "source": [
    "+ *The lowest average rating is around 3 in 2008.* \n",
    "+ *There was a steep increase in rating to 3.26 in 2011 .* \n",
    "+ *There after there were several fluctuations upto where rating was at its highest in 2017 with 3.31.*"
   ]
  },
  {
   "cell_type": "code",
   "execution_count": 31,
   "metadata": {},
   "outputs": [
    {
     "data": {
      "image/png": "[encoded data removed]",
      "text/plain": [
       "plot without title"
      ]
     },
     "metadata": {},
     "output_type": "display_data"
    }
   ],
   "source": [
    "data %>%\n",
    " group_by(Year) %>%\n",
    "  summarise(averagecocoapercent=mean(Cocoa_Percent),sdcocoapercent=sd(Cocoa_Percent))%>%\n",
    "ggplot(aes(x=Year,y=averagecocoapercent,color=averagecocoapercent))+\n",
    "    geom_line()+xlab(\"Year\") +ylab(\"Cocoa %_Average\")+labs(title=\"Average cocoa percentage over the years\")"
   ]
  },
  {
   "cell_type": "markdown",
   "metadata": {},
   "source": [
    "+ *The highest percentage of cocoa was around 2008 at 73%.* \n",
    "+ *The lowest percentage of cocoa was around 2009 at 69%. A steep decrease.* \n",
    "+ *Between 2009 and 2013 there was a steep rise of cocoa pecentage from 69% to 72.25%.*\n",
    "+ *A Steady decrease after that to 71.5% in 2017.*"
   ]
  },
  {
   "cell_type": "code",
   "execution_count": null,
   "metadata": {},
   "outputs": [],
   "source": []
  }
 ],
 "metadata": {
  "kernelspec": {
   "display_name": "R",
   "language": "R",
   "name": "ir"
  },
  "language_info": {
   "codemirror_mode": "r",
   "file_extension": ".r",
   "mimetype": "text/x-r-source",
   "name": "R",
   "pygments_lexer": "r",
   "version": "3.6.2"
  }
 },
 "nbformat": 4,
 "nbformat_minor": 4
}
